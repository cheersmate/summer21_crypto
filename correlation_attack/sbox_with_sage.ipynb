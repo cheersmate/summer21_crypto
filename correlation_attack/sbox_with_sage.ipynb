{
 "cells": [
  {
   "cell_type": "code",
   "execution_count": 36,
   "metadata": {},
   "outputs": [],
   "source": [
    "from sage.all import *\n",
    "from sage.crypto.sbox import SBox\n"
   ]
  },
  {
   "cell_type": "code",
   "execution_count": 30,
   "metadata": {},
   "outputs": [
    {
     "name": "stdout",
     "output_type": "stream",
     "text": [
      "<class 'sage.crypto.sbox.SBox'>\n"
     ]
    }
   ],
   "source": [
    "print(SBox)"
   ]
  },
  {
   "cell_type": "code",
   "execution_count": 31,
   "metadata": {},
   "outputs": [
    {
     "name": "stdout",
     "output_type": "stream",
     "text": [
      "[ 8  0  0  0  0  0  0  0  0  0  0  0  0  0  0  0]\n",
      "[ 0  2 -2  0  2  0  0 -2 -4 -2 -2  0  2  0 -4  2]\n",
      "[ 0  2  0  2 -2  0 -2  0 -2  0  2 -4 -4 -2  0  2]\n",
      "[ 0  0  2  2  0  4  2 -2 -2 -2  0  0  2 -2  4  0]\n",
      "[ 0  2  0 -2  0  2  0 -2  2 -4  2  0 -2  0 -2 -4]\n",
      "[ 0  4 -2 -2  2  2  0  4 -2  2  0  0  0  0  2 -2]\n",
      "[ 0  0  4  0  2  2 -2  2  0  0  0  4 -2 -2 -2  2]\n",
      "[ 0 -2 -2  0  4 -2  2  0  0 -2 -2  0 -4 -2  2  0]\n",
      "[ 0  2  2  0  0 -2 -2  0  2  0 -4 -2  2 -4  0 -2]\n",
      "[ 0  0  0  4  2  2 -2  2  2 -2 -2 -2  0  4  0  0]\n",
      "[ 0  4  2  2 -2 -2  4  0  0  0 -2  2 -2  2  0  0]\n",
      "[ 0 -2  4 -2  0 -2  0  2 -4 -2  0 -2  0  2  0 -2]\n",
      "[ 0  0  2  2  4  0  2 -2  0  4  2 -2  0  0 -2 -2]\n",
      "[ 0 -2  0 -2 -2  4  2  0  0  2 -4 -2 -2  0 -2  0]\n",
      "[ 0 -2 -2  4 -2  0  0  2 -2  0  0  2  0 -2 -2 -4]\n",
      "[ 0  0  0  0  0  0  4  4  2 -2  2 -2  2 -2 -2  2]\n"
     ]
    }
   ],
   "source": [
    "S1 = SBox(8,4,2,1,12,6,3,13,10,5,14,7,15,11,9,0)\n",
    "print(S1.linear_approximation_table())"
   ]
  },
  {
   "cell_type": "code",
   "execution_count": 8,
   "metadata": {},
   "outputs": [
    {
     "name": "stdout",
     "output_type": "stream",
     "text": [
      "True\n",
      "True\n",
      "False\n",
      "True\n",
      "True\n",
      "False\n",
      "False\n",
      "True\n"
     ]
    }
   ],
   "source": [
    "#S1 = SBox(0x8,0x4,0x2,0x1,0xC,0x6,0x3,0xD,0xA,0x5,0xE,0x7,0xF,0xB,0x9,0x0)\n",
    "#print(S1.linear_approximation_table())\n",
    "\n",
    "for a in srange(8): print(S1.to_bits(a)[0] == S1.to_bits(S1(a))[2])\n",
    "    for i in srange(8): \n",
    "        print(S1.to_bits(i)[0] == S1.to_bits(S1(i))[1])\n",
    "        print(S1.to_bits(i)[0] == S1.to_bits(S1(i))[2])\n",
    "        print(S1.to_bits(i)[0] == S1.to_bits(S1(i))[3])\n",
    "        print(S1.to_bits(i)[0] == S1.to_bits(S1(i))[4])\n",
    "        print(S1.to_bits(i)[0] == S1.to_bits(S1(i))[5])\n",
    "        print(S1.to_bits(i)[0] == S1.to_bits(S1(i))[6])\n",
    "        print(S1.to_bits(i)[0] == S1.to_bits(S1(i))[7])\n",
    "        print(S1.to_bits(i)[0] == S1.to_bits(S1(i))[8])\n",
    "        print(S1.to_bits(i)[0] == S1.to_bits(S1(i))[9])\n",
    "        print(S1.to_bits(i)[0] == S1.to_bits(S1(i))[10])\n",
    "        print(S1.to_bits(i)[0] == S1.to_bits(S1(i))[11])\n",
    "        print(S1.to_bits(i)[0] == S1.to_bits(S1(i))[12])\n",
    "        print(S1.to_bits(i)[0] == S1.to_bits(S1(i))[13])\n",
    "        print(S1.to_bits(i)[0] == S1.to_bits(S1(i))[14])\n",
    "        print(S1.to_bits(i)[0] == S1.to_bits(S1(i))[15])\n",
    "        print(S1.to_bits(i)[0] == S1.to_bits(S1(i))[16])\n",
    "\n"
   ]
  },
  {
   "cell_type": "code",
   "execution_count": 47,
   "metadata": {},
   "outputs": [
    {
     "name": "stdout",
     "output_type": "stream",
     "text": [
      "[16  0  0  0  0  0  0  0  0  0  0  0  0  0  0  0]\n",
      "[ 0  0  2  0  4  0  2  0  0  0  0  2  4  0  0  2]\n",
      "[ 0  2  0  0  0  0  0  2  0  0  2  0  0  2  2  6]\n",
      "[ 0  2  0  4  0  2  0  0  0  2  0  4  0  2  0  0]\n",
      "[ 0  4  2  2  0  2  0  2  2  0  0  2  0  0  0  0]\n",
      "[ 0  0  0  4  0  0  0  4  0  0  0  0  2  2  2  2]\n",
      "[ 0  0  0  0  2  0  2  0  2  0  2  0  2  2  2  2]\n",
      "[ 0  0  4  2  2  0  0  0  4  2  0  0  0  0  2  0]\n",
      "[ 0  2  0  0  2  4  2  2  0  2  0  0  0  2  0  0]\n",
      "[ 0  6  0  0  0  0  2  0  0  0  2  4  0  2  0  0]\n",
      "[ 0  0  2  0  0  0  0  2  4  0  4  2  0  0  2  0]\n",
      "[ 0  0  0  0  2  2  2  2  0  0  0  0  4  0  4  0]\n",
      "[ 0  0  2  0  0  2  4  0  2  0  0  0  2  2  2  0]\n",
      "[ 0  0  2  2  2  0  2  0  0  2  6  0  0  0  0  0]\n",
      "[ 0  0  2  2  0  0  0  0  2  6  0  0  0  0  0  4]\n",
      "[ 0  0  0  0  2  4  0  2  0  2  0  2  2  2  0  0]\n"
     ]
    }
   ],
   "source": [
    "S2 = SBox(14,2,1,3,13,9,0,6,15,4,5,10,8,12,7,11)\n",
    "print(S2.difference_distribution_table())"
   ]
  },
  {
   "cell_type": "code",
   "execution_count": 52,
   "metadata": {},
   "outputs": [
    {
     "data": {
      "text/plain": [
       "[0, 1, 1, 1]"
      ]
     },
     "execution_count": 52,
     "metadata": {},
     "output_type": "execute_result"
    }
   ],
   "source": [
    "S2([1,1,1,0])"
   ]
  },
  {
   "cell_type": "code",
   "execution_count": null,
   "metadata": {},
   "outputs": [],
   "source": []
  },
  {
   "cell_type": "code",
   "execution_count": null,
   "metadata": {},
   "outputs": [],
   "source": []
  },
  {
   "cell_type": "code",
   "execution_count": 3,
   "metadata": {},
   "outputs": [
    {
     "name": "stdout",
     "output_type": "stream",
     "text": [
      "[ 8  0  0  0  0  0  0  0  0  0  0  0  0  0  0  0]\n",
      "[ 0  0 -2 -2  0  0 -2  6  2  2  0  0  2  2  0  0]\n",
      "[ 0  0 -2 -2  0  0 -2 -2  0  0  2  2  0  0 -6  2]\n",
      "[ 0  0  0  0  0  0  0  0  2 -6 -2 -2  2  2 -2 -2]\n",
      "[ 0  2  0 -2 -2 -4 -2  0  0 -2  0  2  2 -4  2  0]\n",
      "[ 0 -2 -2  0 -2  0  4  2 -2  0 -4  2  0 -2 -2  0]\n",
      "[ 0  2 -2  4  2  0  0  2  0 -2  2  4 -2  0  0 -2]\n",
      "[ 0 -2  0  2  2 -4  2  0 -2  0  2  0  4  2  0  2]\n",
      "[ 0  0  0  0  0  0  0  0 -2  2  2 -2  2 -2 -2 -6]\n",
      "[ 0  0 -2 -2  0  0 -2 -2 -4  0 -2  2  0  4  2 -2]\n",
      "[ 0  4 -2  2 -4  0  2 -2  2  2  0  0  2  2  0  0]\n",
      "[ 0  4  0 -4  4  0  4  0  0  0  0  0  0  0  0  0]\n",
      "[ 0 -2  4 -2 -2  0  2  0  2  0  2  4  0  2  0 -2]\n",
      "[ 0  2  2  0 -2  4  0  2 -4 -2  2  0  2  0  0  2]\n",
      "[ 0  2  2  0 -2 -4  0  2 -2  0  0 -2 -4  2 -2  0]\n",
      "[ 0 -2 -4 -2 -2  0  2  0  0 -2  4 -2 -2  0  2  0]\n"
     ]
    }
   ],
   "source": [
    "#from book \n",
    "\n",
    "S3 = SBox(14,4,13,1,2,15,11,8,3,10,6,12,5,9,0,7)\n",
    "print(S3.linear_approximation_table())"
   ]
  },
  {
   "cell_type": "code",
   "execution_count": 49,
   "metadata": {},
   "outputs": [
    {
     "data": {
      "text/plain": [
       "[0, 1, 1, 1]"
      ]
     },
     "execution_count": 49,
     "metadata": {},
     "output_type": "execute_result"
    }
   ],
   "source": [
    "S3([1,1,1,1])"
   ]
  },
  {
   "cell_type": "code",
   "execution_count": null,
   "metadata": {},
   "outputs": [],
   "source": []
  },
  {
   "cell_type": "code",
   "execution_count": null,
   "metadata": {},
   "outputs": [],
   "source": []
  },
  {
   "cell_type": "code",
   "execution_count": null,
   "metadata": {},
   "outputs": [],
   "source": []
  },
  {
   "cell_type": "code",
   "execution_count": 7,
   "metadata": {},
   "outputs": [
    {
     "data": {
      "text/plain": [
       "[0, 1, 0, 0]"
      ]
     },
     "execution_count": 7,
     "metadata": {},
     "output_type": "execute_result"
    }
   ],
   "source": [
    "S3([0,0,0,1])"
   ]
  },
  {
   "cell_type": "code",
   "execution_count": 14,
   "metadata": {},
   "outputs": [],
   "source": [
    "S4 = SBox([0x4,0x0,0x1,0xF,0x2,0xB,0x6,0x7,0x3,0x9,0xA,0x5,0xC,0xD,0xE,0x8])\n",
    "S6 = SBox([0x0,0x7,0xB,0xD,0x4,0x1,0xB,0xF,0x1,0x2,0xC,0xE,0xD,0xC,0x5,0x5])"
   ]
  },
  {
   "cell_type": "code",
   "execution_count": 22,
   "metadata": {},
   "outputs": [
    {
     "data": {
      "text/plain": [
       "[ 8  0  0  0  0  0  0  0  0  0  0  0  0  0  0  0]\n",
       "[ 0  0 -2 -2  0  0 -2  6  2  2  0  0  2  2  0  0]\n",
       "[ 0  0 -2 -2  0  0 -2 -2  0  0  2  2  0  0 -6  2]\n",
       "[ 0  0  0  0  0  0  0  0  2 -6 -2 -2  2  2 -2 -2]\n",
       "[ 0  2  0 -2 -2 -4 -2  0  0 -2  0  2  2 -4  2  0]\n",
       "[ 0 -2 -2  0 -2  0  4  2 -2  0 -4  2  0 -2 -2  0]\n",
       "[ 0  2 -2  4  2  0  0  2  0 -2  2  4 -2  0  0 -2]\n",
       "[ 0 -2  0  2  2 -4  2  0 -2  0  2  0  4  2  0  2]\n",
       "[ 0  0  0  0  0  0  0  0 -2  2  2 -2  2 -2 -2 -6]\n",
       "[ 0  0 -2 -2  0  0 -2 -2 -4  0 -2  2  0  4  2 -2]\n",
       "[ 0  4 -2  2 -4  0  2 -2  2  2  0  0  2  2  0  0]\n",
       "[ 0  4  0 -4  4  0  4  0  0  0  0  0  0  0  0  0]\n",
       "[ 0 -2  4 -2 -2  0  2  0  2  0  2  4  0  2  0 -2]\n",
       "[ 0  2  2  0 -2  4  0  2 -4 -2  2  0  2  0  0  2]\n",
       "[ 0  2  2  0 -2 -4  0  2 -2  0  0 -2 -4  2 -2  0]\n",
       "[ 0 -2 -4 -2 -2  0  2  0  0 -2  4 -2 -2  0  2  0]"
      ]
     },
     "execution_count": 22,
     "metadata": {},
     "output_type": "execute_result"
    }
   ],
   "source": [
    "(S3.linear_approximation_table())"
   ]
  },
  {
   "cell_type": "code",
   "execution_count": 35,
   "metadata": {
    "scrolled": true
   },
   "outputs": [
    {
     "name": "stdout",
     "output_type": "stream",
     "text": [
      "[ 8  0  0  0  0  0  0  0  0  0  0  0  0  0  0  0]\n",
      "[ 0  0 -2 -2  0  0 -2  6  2  2  0  0  2  2  0  0]\n",
      "[ 0  0 -2 -2  0  0 -2 -2  0  0  2  2  0  0 -6  2]\n",
      "[ 0  0  0  0  0  0  0  0  2 -6 -2 -2  2  2 -2 -2]\n",
      "[ 0  2  0 -2 -2 -4 -2  0  0 -2  0  2  2 -4  2  0]\n",
      "[ 0 -2 -2  0 -2  0  4  2 -2  0 -4  2  0 -2 -2  0]\n",
      "[ 0  2 -2  4  2  0  0  2  0 -2  2  4 -2  0  0 -2]\n",
      "[ 0 -2  0  2  2 -4  2  0 -2  0  2  0  4  2  0  2]\n",
      "[ 0  0  0  0  0  0  0  0 -2  2  2 -2  2 -2 -2 -6]\n",
      "[ 0  0 -2 -2  0  0 -2 -2 -4  0 -2  2  0  4  2 -2]\n",
      "[ 0  4 -2  2 -4  0  2 -2  2  2  0  0  2  2  0  0]\n",
      "[ 0  4  0 -4  4  0  4  0  0  0  0  0  0  0  0  0]\n",
      "[ 0 -2  4 -2 -2  0  2  0  2  0  2  4  0  2  0 -2]\n",
      "[ 0  2  2  0 -2  4  0  2 -4 -2  2  0  2  0  0  2]\n",
      "[ 0  2  2  0 -2 -4  0  2 -2  0  0 -2 -4  2 -2  0]\n",
      "[ 0 -2 -4 -2 -2  0  2  0  0 -2  4 -2 -2  0  2  0]\n"
     ]
    }
   ],
   "source": [
    "S8 = SBox(0xe, 4, 0xd, 1, 2, 0xf, 0xb, 8, 3, 0xa, 6, 0xc, 5, 9, 0, 7)\n",
    "print(S8.linear_approximation_table())\n"
   ]
  },
  {
   "cell_type": "code",
   "execution_count": 34,
   "metadata": {
    "scrolled": true
   },
   "outputs": [
    {
     "name": "stdout",
     "output_type": "stream",
     "text": [
      "[ 8  0  0  0  0  0  0  0  0  0  0  0  0  0  0  0]\n",
      "[ 0  2 -2  0  2  0  0 -2 -4 -2 -2  0  2  0 -4  2]\n",
      "[ 0  2  0  2 -2  0 -2  0 -2  0  2 -4 -4 -2  0  2]\n",
      "[ 0  0  2  2  0  4  2 -2 -2 -2  0  0  2 -2  4  0]\n",
      "[ 0  2  0 -2  0  2  0 -2  2 -4  2  0 -2  0 -2 -4]\n",
      "[ 0  4 -2 -2  2  2  0  4 -2  2  0  0  0  0  2 -2]\n",
      "[ 0  0  4  0  2  2 -2  2  0  0  0  4 -2 -2 -2  2]\n",
      "[ 0 -2 -2  0  4 -2  2  0  0 -2 -2  0 -4 -2  2  0]\n",
      "[ 0  2  2  0  0 -2 -2  0  2  0 -4 -2  2 -4  0 -2]\n",
      "[ 0  0  0  4  2  2 -2  2  2 -2 -2 -2  0  4  0  0]\n",
      "[ 0  4  2  2 -2 -2  4  0  0  0 -2  2 -2  2  0  0]\n",
      "[ 0 -2  4 -2  0 -2  0  2 -4 -2  0 -2  0  2  0 -2]\n",
      "[ 0  0  2  2  4  0  2 -2  0  4  2 -2  0  0 -2 -2]\n",
      "[ 0 -2  0 -2 -2  4  2  0  0  2 -4 -2 -2  0 -2  0]\n",
      "[ 0 -2 -2  4 -2  0  0  2 -2  0  0  2  0 -2 -2 -4]\n",
      "[ 0  0  0  0  0  0  4  4  2 -2  2 -2  2 -2 -2  2]\n"
     ]
    }
   ],
   "source": [
    "S9 = SBox(8,4,2,1,0xc,6,3,0xd,0xa,5,0xe,7,0xf,0xb,9,0)\n",
    "print(S9.linear_approximation_table())"
   ]
  },
  {
   "cell_type": "code",
   "execution_count": null,
   "metadata": {},
   "outputs": [],
   "source": []
  }
 ],
 "metadata": {
  "kernelspec": {
   "display_name": "SageMath 9.3",
   "language": "sage",
   "name": "sagemath-9.3"
  },
  "language_info": {
   "codemirror_mode": {
    "name": "ipython",
    "version": 3
   },
   "file_extension": ".py",
   "mimetype": "text/x-python",
   "name": "python",
   "nbconvert_exporter": "python",
   "pygments_lexer": "ipython3",
   "version": "3.9.2"
  }
 },
 "nbformat": 4,
 "nbformat_minor": 4
}
